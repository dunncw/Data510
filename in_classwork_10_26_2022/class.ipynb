{
 "cells": [
  {
   "cell_type": "code",
   "execution_count": 6,
   "metadata": {},
   "outputs": [
    {
     "name": "stdout",
     "output_type": "stream",
     "text": [
      "72365\n",
      "72877\n"
     ]
    }
   ],
   "source": [
    "import pandas as pd \n",
    "import numpy as np\n",
    "\n",
    "# read in the data from csv file in the data folder\n",
    "aac_intakes = pd.read_csv('data/aac_intakes.csv')\n",
    "aac_outcomes = pd.read_csv('data/aac_outcomes.csv')\n",
    "\n",
    "# how many unique animal_id are there?\n",
    "print(len(aac_intakes['animal_id'].unique()))\n",
    "print(len(aac_outcomes['animal_id'].unique()))\n",
    "\n",
    "\n",
    "#merge the two dataframes on the column 'animal_id'\n",
    "aac_merged = pd.merge(aac_intakes, aac_outcomes, on=['animal_id', \"animal_type\", 'name', 'breed', 'color'])"
   ]
  },
  {
   "cell_type": "code",
   "execution_count": null,
   "metadata": {},
   "outputs": [],
   "source": [
    "# What is the average stay duration by animal type?\n",
    "\n",
    "\n",
    "# What is the average stay duration by age for dogs and cats?\n",
    "# What is the average stay duration by 5 most common dog breeds?\n",
    "# What is the most common outcome by age class?"
   ]
  }
 ],
 "metadata": {
  "kernelspec": {
   "display_name": "Python 3.9.13 ('base')",
   "language": "python",
   "name": "python3"
  },
  "language_info": {
   "codemirror_mode": {
    "name": "ipython",
    "version": 3
   },
   "file_extension": ".py",
   "mimetype": "text/x-python",
   "name": "python",
   "nbconvert_exporter": "python",
   "pygments_lexer": "ipython3",
   "version": "3.9.13"
  },
  "orig_nbformat": 4,
  "vscode": {
   "interpreter": {
    "hash": "c80f197de51f2e8f4f64939cdb6509e24cf0f2fa52909b0c811bb9d4766896df"
   }
  }
 },
 "nbformat": 4,
 "nbformat_minor": 2
}
